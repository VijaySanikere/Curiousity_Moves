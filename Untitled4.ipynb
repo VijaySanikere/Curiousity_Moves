{
 "cells": [
  {
   "cell_type": "code",
   "execution_count": 1,
   "metadata": {},
   "outputs": [
    {
     "name": "stdout",
     "output_type": "stream",
     "text": [
      "1\n",
      "2\n",
      "3\n",
      "4\n",
      "exhausted\n"
     ]
    }
   ],
   "source": [
    "#Sample program\n",
    "num=[1,2,3,4]\n",
    "for i in num:\n",
    "    print(i)\n",
    "else:\n",
    "    print(\"exhausted\")"
   ]
  },
  {
   "cell_type": "code",
   "execution_count": null,
   "metadata": {},
   "outputs": [],
   "source": [
    "# 2) A programme to accept first and last name and print that in a reverse order with a space in between the first and last name\n",
    "name1=input(\"what is your first name?\")\n",
    "name2=input('what is your last name?')\n",
    "print( name2[::-1], name1[::-1])"
   ]
  },
  {
   "cell_type": "code",
   "execution_count": null,
   "metadata": {},
   "outputs": [],
   "source": [
    "# 3)Programme to find out the volume of sphere with diameter equal to 12 cm\n",
    "d=12\n",
    "r=d/2\n",
    "#Pi=3.1416\n",
    "volume=4/3*3.1416*r*r*r\n",
    "#Volume is in sqcms\n",
    "volume\n",
    "print(\"volume of sphere is\",volume,\"sqcm\")"
   ]
  },
  {
   "cell_type": "code",
   "execution_count": null,
   "metadata": {},
   "outputs": [],
   "source": [
    "#Program to accept a name and to print it in the reverse order\n",
    "name1=input(\"word to be reversed?\")\n",
    "print(name1[::-1])"
   ]
  },
  {
   "cell_type": "code",
   "execution_count": null,
   "metadata": {},
   "outputs": [],
   "source": [
    "#Program to print a particular pattern of stars using nested for loop\n",
    "x=list(range(1,6,1))\n",
    "for i in x:\n",
    "    print (\"*\"*i)\n",
    "y=list(range(5,0,-1))\n",
    "for val in y:\n",
    "    print(\"*\"*val)"
   ]
  }
 ],
 "metadata": {
  "kernelspec": {
   "display_name": "Python 3",
   "language": "python",
   "name": "python3"
  },
  "language_info": {
   "codemirror_mode": {
    "name": "ipython",
    "version": 3
   },
   "file_extension": ".py",
   "mimetype": "text/x-python",
   "name": "python",
   "nbconvert_exporter": "python",
   "pygments_lexer": "ipython3",
   "version": "3.6.4"
  }
 },
 "nbformat": 4,
 "nbformat_minor": 2
}
